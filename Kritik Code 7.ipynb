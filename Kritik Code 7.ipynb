{
 "cells": [
  {
   "cell_type": "code",
   "execution_count": 1,
   "id": "ed113228-d429-4b09-877f-b5b81da82731",
   "metadata": {},
   "outputs": [
    {
     "name": "stdout",
     "output_type": "stream",
     "text": [
      "Sample Mean: 82.382\n",
      "Sample Standard Deviation: 10.193467189005581\n",
      "Calculated t0: 2.290087686017293\n",
      "Critical t*: 2.2522252225222523\n",
      "Reject the null hypothesis: True\n"
     ]
    }
   ],
   "source": [
    "def mean_and_std(data):\n",
    "    n = len(data)\n",
    "    mean = sum(data) / n\n",
    "    variance = sum((x - mean)**2 for x in data) / (n - 1)  # Sample variance formula\n",
    "    std_dev = variance**0.5\n",
    "    return mean, std_dev\n",
    "def compute_t0(data, mu_0):\n",
    "    mean, std_dev = mean_and_std(data)\n",
    "    n = len(data)\n",
    "    t0 = (mean - mu_0) / (std_dev / (n**0.5))\n",
    "    return t0\n",
    "def find_t_star(prob, nu, x_start=0, x_end=20, num_points=10000):\n",
    "    # Define the x values\n",
    "    x = np.linspace(x_start, x_end, num_points)\n",
    "    # Apply the density function to the x values\n",
    "    y = t_distribution_pdf(x, nu)\n",
    "    # This next line is the integration (exercise: why does this work?)\n",
    "    cdf = np.cumsum(y) * (x[1] - x[0])\n",
    "    # Find the t-value where the cumulative probability reaches half of the required probability\n",
    "    target_half_prob = prob / 2\n",
    "    index = np.where(cdf >= target_half_prob)[0][0]\n",
    "    return x[index]\n",
    "def is_within_critical_range(t0, t_star):\n",
    "    return abs(t0) <= t_star\n",
    "import numpy as np\n",
    "from scipy.special import gamma\n",
    "\n",
    "# The t-distribution pdf function from your original code\n",
    "def t_distribution_pdf(x, nu):\n",
    "    coeff = gamma((nu + 1) / 2) / (np.sqrt(nu * np.pi) * gamma(nu / 2))\n",
    "    density = coeff * (1 + x**2 / nu) ** (-0.5 * (nu + 1))\n",
    "    return density\n",
    "\n",
    "# Data from the scenario\n",
    "data = [92.64, 79.00, 84.79, 97.41, 93.68, 65.23, 84.50, 73.49, 73.97, 79.11]\n",
    "mu_0 = 75  # National average\n",
    "n = len(data)\n",
    "\n",
    "# Step 1: Calculate mean and standard deviation\n",
    "mean, std_dev = mean_and_std(data)\n",
    "\n",
    "# Step 2: Compute t0\n",
    "t0 = compute_t0(data, mu_0)\n",
    "\n",
    "# Step 3: Find t_star for 95% confidence\n",
    "nu = n - 1  # Degrees of freedom\n",
    "t_star = find_t_star(0.95, nu)\n",
    "\n",
    "# Step 4: Compare t0 and t_star\n",
    "reject_null = not is_within_critical_range(t0, t_star)\n",
    "\n",
    "# Step 5: Print results\n",
    "print(f\"Sample Mean: {mean}\")\n",
    "print(f\"Sample Standard Deviation: {std_dev}\")\n",
    "print(f\"Calculated t0: {t0}\")\n",
    "print(f\"Critical t*: {t_star}\")\n",
    "print(f\"Reject the null hypothesis: {reject_null}\")\n"
   ]
  },
  {
   "cell_type": "code",
   "execution_count": null,
   "id": "f4fe8a5e-a3f7-4096-bd6f-747c6546f425",
   "metadata": {},
   "outputs": [],
   "source": []
  }
 ],
 "metadata": {
  "kernelspec": {
   "display_name": "Python 3 (ipykernel)",
   "language": "python",
   "name": "python3"
  },
  "language_info": {
   "codemirror_mode": {
    "name": "ipython",
    "version": 3
   },
   "file_extension": ".py",
   "mimetype": "text/x-python",
   "name": "python",
   "nbconvert_exporter": "python",
   "pygments_lexer": "ipython3",
   "version": "3.12.8"
  }
 },
 "nbformat": 4,
 "nbformat_minor": 5
}
